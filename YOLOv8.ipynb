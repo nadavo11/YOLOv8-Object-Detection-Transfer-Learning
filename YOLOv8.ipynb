{
 "cells": [
  {
   "cell_type": "markdown",
   "source": [
    "# Transfer Learning - training a YOLO v8 Model on our dataset\n",
    "the ultralytics library provides a training environment that we can use"
   ],
   "metadata": {
    "collapsed": false
   }
  },
  {
   "cell_type": "code",
   "execution_count": 1,
   "metadata": {
    "collapsed": true
   },
   "outputs": [],
   "source": [
    "from ultralytics import YOLO"
   ]
  },
  {
   "cell_type": "markdown",
   "source": [
    "# Initiate a YOLO Model"
   ],
   "metadata": {
    "collapsed": false
   }
  },
  {
   "cell_type": "code",
   "execution_count": 59,
   "outputs": [
    {
     "name": "stderr",
     "output_type": "stream",
     "text": [
      "Ultralytics YOLOv8.0.42  Python-3.10.7 torch-1.13.1+cpu CPU\n",
      "\u001B[34m\u001B[1myolo\\engine\\trainer: \u001B[0mtask=detect, mode=train, model=yolov8n.pt, data=mydata.yaml, epochs=3, patience=50, batch=16, imgsz=640, save=True, save_period=-1, cache=False, device=None, workers=8, project=None, name=None, exist_ok=False, pretrained=False, optimizer=SGD, verbose=True, seed=0, deterministic=True, single_cls=False, image_weights=False, rect=False, cos_lr=False, close_mosaic=10, resume=False, min_memory=False, overlap_mask=True, mask_ratio=4, dropout=False, val=True, split=val, save_json=False, save_hybrid=False, conf=0.001, iou=0.7, max_det=300, half=False, dnn=False, plots=True, source=ultralytics/assets/, show=False, save_txt=False, save_conf=False, save_crop=False, hide_labels=False, hide_conf=False, vid_stride=1, line_thickness=3, visualize=False, augment=False, agnostic_nms=False, classes=None, retina_masks=False, boxes=True, format=torchscript, keras=False, optimize=False, int8=False, dynamic=False, simplify=False, opset=None, workspace=4, nms=False, lr0=0.01, lrf=0.01, momentum=0.937, weight_decay=0.001, warmup_epochs=3.0, warmup_momentum=0.8, warmup_bias_lr=0.1, box=7.5, cls=0.5, dfl=1.5, fl_gamma=0.0, label_smoothing=0.0, nbs=64, hsv_h=0.015, hsv_s=0.7, hsv_v=0.4, degrees=0.0, translate=0.1, scale=0.5, shear=0.0, perspective=0.0, flipud=0.0, fliplr=0.5, mosaic=1.0, mixup=0.0, copy_paste=0.0, cfg=None, v5loader=False, tracker=botsort.yaml, save_dir=runs\\detect\\train49\n",
      "Overriding model.yaml nc=80 with nc=1\n",
      "\n",
      "                   from  n    params  module                                       arguments                     \n",
      "  0                  -1  1       464  ultralytics.nn.modules.Conv                  [3, 16, 3, 2]                 \n",
      "  1                  -1  1      4672  ultralytics.nn.modules.Conv                  [16, 32, 3, 2]                \n",
      "  2                  -1  1      7360  ultralytics.nn.modules.C2f                   [32, 32, 1, True]             \n",
      "  3                  -1  1     18560  ultralytics.nn.modules.Conv                  [32, 64, 3, 2]                \n",
      "  4                  -1  2     49664  ultralytics.nn.modules.C2f                   [64, 64, 2, True]             \n",
      "  5                  -1  1     73984  ultralytics.nn.modules.Conv                  [64, 128, 3, 2]               \n",
      "  6                  -1  2    197632  ultralytics.nn.modules.C2f                   [128, 128, 2, True]           \n",
      "  7                  -1  1    295424  ultralytics.nn.modules.Conv                  [128, 256, 3, 2]              \n",
      "  8                  -1  1    460288  ultralytics.nn.modules.C2f                   [256, 256, 1, True]           \n",
      "  9                  -1  1    164608  ultralytics.nn.modules.SPPF                  [256, 256, 5]                 \n",
      " 10                  -1  1         0  torch.nn.modules.upsampling.Upsample         [None, 2, 'nearest']          \n",
      " 11             [-1, 6]  1         0  ultralytics.nn.modules.Concat                [1]                           \n",
      " 12                  -1  1    148224  ultralytics.nn.modules.C2f                   [384, 128, 1]                 \n",
      " 13                  -1  1         0  torch.nn.modules.upsampling.Upsample         [None, 2, 'nearest']          \n",
      " 14             [-1, 4]  1         0  ultralytics.nn.modules.Concat                [1]                           \n",
      " 15                  -1  1     37248  ultralytics.nn.modules.C2f                   [192, 64, 1]                  \n",
      " 16                  -1  1     36992  ultralytics.nn.modules.Conv                  [64, 64, 3, 2]                \n",
      " 17            [-1, 12]  1         0  ultralytics.nn.modules.Concat                [1]                           \n",
      " 18                  -1  1    123648  ultralytics.nn.modules.C2f                   [192, 128, 1]                 \n",
      " 19                  -1  1    147712  ultralytics.nn.modules.Conv                  [128, 128, 3, 2]              \n",
      " 20             [-1, 9]  1         0  ultralytics.nn.modules.Concat                [1]                           \n",
      " 21                  -1  1    493056  ultralytics.nn.modules.C2f                   [384, 256, 1]                 \n",
      " 22        [15, 18, 21]  1    751507  ultralytics.nn.modules.Detect                [1, [64, 128, 256]]           \n",
      "Model summary: 225 layers, 3011043 parameters, 3011027 gradients, 8.2 GFLOPs\n",
      "\n",
      "Transferred 319/355 items from pretrained weights\n",
      "\u001B[34m\u001B[1moptimizer:\u001B[0m SGD(lr=0.01) with parameter groups 57 weight(decay=0.0), 64 weight(decay=0.001), 63 bias\n",
      "\u001B[34m\u001B[1mtrain: \u001B[0mScanning C:\\Users\\Nain0414\\Downloads\\YOLO-v8-Transfer-Learning-Implementation-main\\YOLO-v8-Transfer-Learning-Implementation-main\\ultralytics\\ultralytics\\datasets\\mydata\\labels\\train.cache... 209 images, 0 backgrounds, 0 corrupt: 100%|██████████| 209/209 [00:00<?, ?it/s]\n",
      "\u001B[34m\u001B[1mval: \u001B[0mScanning C:\\Users\\Nain0414\\Downloads\\YOLO-v8-Transfer-Learning-Implementation-main\\YOLO-v8-Transfer-Learning-Implementation-main\\ultralytics\\ultralytics\\datasets\\mydata\\labels\\val... 20 images, 0 backgrounds, 0 corrupt: 100%|██████████| 20/20 [00:00<00:00, 421.36it/s]\n",
      "\u001B[34m\u001B[1mval: \u001B[0mNew cache created: C:\\Users\\Nain0414\\Downloads\\YOLO-v8-Transfer-Learning-Implementation-main\\YOLO-v8-Transfer-Learning-Implementation-main\\ultralytics\\ultralytics\\datasets\\mydata\\labels\\val.cache\n",
      "Image sizes 640 train, 640 val\n",
      "Using 0 dataloader workers\n",
      "Logging results to \u001B[1mruns\\detect\\train49\u001B[0m\n",
      "Starting training for 3 epochs...\n",
      "\n",
      "      Epoch    GPU_mem   box_loss   cls_loss   dfl_loss  Instances       Size\n",
      "        1/3         0G      1.481      3.049      1.374         51        640: 100%|██████████| 14/14 [03:31<00:00, 15.14s/it]\n",
      "                 Class     Images  Instances      Box(P          R      mAP50  mAP50-95):   0%|          | 0/1 [00:00<?, ?it/s]WARNING  NMS time limit 1.500s exceeded\n",
      "                 Class     Images  Instances      Box(P          R      mAP50  mAP50-95): 100%|██████████| 1/1 [00:07<00:00,  7.60s/it]\n",
      "                   all         20        367     0.0343      0.477      0.181      0.134\n",
      "\n",
      "      Epoch    GPU_mem   box_loss   cls_loss   dfl_loss  Instances       Size\n",
      "        2/3         0G     0.9562      2.094       1.15         28        640: 100%|██████████| 14/14 [02:48<00:00, 12.00s/it]\n",
      "                 Class     Images  Instances      Box(P          R      mAP50  mAP50-95):   0%|          | 0/1 [00:00<?, ?it/s]WARNING  NMS time limit 1.500s exceeded\n",
      "                 Class     Images  Instances      Box(P          R      mAP50  mAP50-95): 100%|██████████| 1/1 [00:07<00:00,  7.21s/it]\n",
      "                   all         20        367     0.0355      0.493      0.292      0.241\n",
      "\n",
      "      Epoch    GPU_mem   box_loss   cls_loss   dfl_loss  Instances       Size\n",
      "        3/3         0G     0.8326       1.36      1.079         44        640: 100%|██████████| 14/14 [04:04<00:00, 17.50s/it]\n",
      "                 Class     Images  Instances      Box(P          R      mAP50  mAP50-95):   0%|          | 0/1 [00:00<?, ?it/s]WARNING  NMS time limit 1.500s exceeded\n",
      "                 Class     Images  Instances      Box(P          R      mAP50  mAP50-95): 100%|██████████| 1/1 [00:08<00:00,  8.23s/it]\n",
      "                   all         20        367      0.883      0.288      0.398       0.31\n",
      "\n",
      "3 epochs completed in 0.181 hours.\n",
      "Optimizer stripped from runs\\detect\\train49\\weights\\last.pt, 6.2MB\n",
      "Optimizer stripped from runs\\detect\\train49\\weights\\best.pt, 6.2MB\n",
      "\n",
      "Validating runs\\detect\\train49\\weights\\best.pt...\n",
      "Ultralytics YOLOv8.0.42  Python-3.10.7 torch-1.13.1+cpu CPU\n",
      "Model summary (fused): 168 layers, 3005843 parameters, 0 gradients, 8.1 GFLOPs\n",
      "                 Class     Images  Instances      Box(P          R      mAP50  mAP50-95):   0%|          | 0/1 [00:00<?, ?it/s]WARNING  NMS time limit 1.500s exceeded\n",
      "                 Class     Images  Instances      Box(P          R      mAP50  mAP50-95): 100%|██████████| 1/1 [00:05<00:00,  5.54s/it]\n",
      "                   all         20        367      0.902      0.311      0.427      0.334\n",
      "Speed: 3.2ms preprocess, 174.1ms inference, 0.0ms loss, 77.5ms postprocess per image\n",
      "Results saved to \u001B[1mruns\\detect\\train49\u001B[0m\n"
     ]
    }
   ],
   "source": [
    "model = YOLO()\n",
    "model.train(data=\"mydata.yaml\", epochs=3)"
   ],
   "metadata": {
    "collapsed": false
   }
  },
  {
   "cell_type": "code",
   "execution_count": null,
   "outputs": [
    {
     "name": "stderr",
     "output_type": "stream",
     "text": [
      "Ultralytics YOLOv8.0.42  Python-3.10.7 torch-1.13.1+cpu CPU\n",
      "\u001B[34m\u001B[1myolo\\engine\\trainer: \u001B[0mtask=detect, mode=train, model=runs/detect/train49/weights/best.pt, data=mydata.yaml, epochs=16, patience=50, batch=16, imgsz=640, save=True, save_period=-1, cache=False, device=None, workers=0, project=None, name=None, exist_ok=False, pretrained=False, optimizer=SGD, verbose=True, seed=0, deterministic=True, single_cls=False, image_weights=False, rect=False, cos_lr=False, close_mosaic=10, resume=False, min_memory=False, overlap_mask=True, mask_ratio=4, dropout=False, val=True, split=val, save_json=False, save_hybrid=False, conf=0.001, iou=0.7, max_det=300, half=False, dnn=False, plots=True, source=ultralytics/assets/, show=False, save_txt=False, save_conf=False, save_crop=False, hide_labels=False, hide_conf=False, vid_stride=1, line_thickness=3, visualize=False, augment=False, agnostic_nms=False, classes=None, retina_masks=False, boxes=True, format=torchscript, keras=False, optimize=False, int8=False, dynamic=False, simplify=False, opset=None, workspace=4, nms=False, lr0=0.01, lrf=0.01, momentum=0.937, weight_decay=0.001, warmup_epochs=3.0, warmup_momentum=0.8, warmup_bias_lr=0.1, box=7.5, cls=0.5, dfl=1.5, fl_gamma=0.0, label_smoothing=0.0, nbs=64, hsv_h=0.015, hsv_s=0.7, hsv_v=0.4, degrees=0.0, translate=0.1, scale=0.5, shear=0.0, perspective=0.0, flipud=0.0, fliplr=0.5, mosaic=1.0, mixup=0.0, copy_paste=0.0, cfg=None, v5loader=False, tracker=botsort.yaml, save_dir=runs\\detect\\train52\n",
      "\n",
      "                   from  n    params  module                                       arguments                     \n",
      "  0                  -1  1       464  ultralytics.nn.modules.Conv                  [3, 16, 3, 2]                 \n",
      "  1                  -1  1      4672  ultralytics.nn.modules.Conv                  [16, 32, 3, 2]                \n",
      "  2                  -1  1      7360  ultralytics.nn.modules.C2f                   [32, 32, 1, True]             \n",
      "  3                  -1  1     18560  ultralytics.nn.modules.Conv                  [32, 64, 3, 2]                \n",
      "  4                  -1  2     49664  ultralytics.nn.modules.C2f                   [64, 64, 2, True]             \n",
      "  5                  -1  1     73984  ultralytics.nn.modules.Conv                  [64, 128, 3, 2]               \n",
      "  6                  -1  2    197632  ultralytics.nn.modules.C2f                   [128, 128, 2, True]           \n",
      "  7                  -1  1    295424  ultralytics.nn.modules.Conv                  [128, 256, 3, 2]              \n",
      "  8                  -1  1    460288  ultralytics.nn.modules.C2f                   [256, 256, 1, True]           \n",
      "  9                  -1  1    164608  ultralytics.nn.modules.SPPF                  [256, 256, 5]                 \n",
      " 10                  -1  1         0  torch.nn.modules.upsampling.Upsample         [None, 2, 'nearest']          \n",
      " 11             [-1, 6]  1         0  ultralytics.nn.modules.Concat                [1]                           \n",
      " 12                  -1  1    148224  ultralytics.nn.modules.C2f                   [384, 128, 1]                 \n",
      " 13                  -1  1         0  torch.nn.modules.upsampling.Upsample         [None, 2, 'nearest']          \n",
      " 14             [-1, 4]  1         0  ultralytics.nn.modules.Concat                [1]                           \n",
      " 15                  -1  1     37248  ultralytics.nn.modules.C2f                   [192, 64, 1]                  \n",
      " 16                  -1  1     36992  ultralytics.nn.modules.Conv                  [64, 64, 3, 2]                \n",
      " 17            [-1, 12]  1         0  ultralytics.nn.modules.Concat                [1]                           \n",
      " 18                  -1  1    123648  ultralytics.nn.modules.C2f                   [192, 128, 1]                 \n",
      " 19                  -1  1    147712  ultralytics.nn.modules.Conv                  [128, 128, 3, 2]              \n",
      " 20             [-1, 9]  1         0  ultralytics.nn.modules.Concat                [1]                           \n",
      " 21                  -1  1    493056  ultralytics.nn.modules.C2f                   [384, 256, 1]                 \n",
      " 22        [15, 18, 21]  1    751507  ultralytics.nn.modules.Detect                [1, [64, 128, 256]]           \n",
      "Model summary: 225 layers, 3011043 parameters, 3011027 gradients, 8.2 GFLOPs\n",
      "\n",
      "Transferred 70/355 items from pretrained weights\n",
      "\u001B[34m\u001B[1moptimizer:\u001B[0m SGD(lr=0.01) with parameter groups 57 weight(decay=0.0), 64 weight(decay=0.001), 63 bias\n",
      "\u001B[34m\u001B[1mtrain: \u001B[0mScanning C:\\Users\\Nain0414\\Downloads\\YOLO-v8-Transfer-Learning-Implementation-main\\YOLO-v8-Transfer-Learning-Implementation-main\\ultralytics\\ultralytics\\datasets\\mydata\\labels\\train.cache... 209 images, 0 backgrounds, 0 corrupt: 100%|██████████| 209/209 [00:00<?, ?it/s]\n",
      "\u001B[34m\u001B[1mval: \u001B[0mScanning C:\\Users\\Nain0414\\Downloads\\YOLO-v8-Transfer-Learning-Implementation-main\\YOLO-v8-Transfer-Learning-Implementation-main\\ultralytics\\ultralytics\\datasets\\mydata\\labels\\val.cache... 20 images, 0 backgrounds, 0 corrupt: 100%|██████████| 20/20 [00:00<?, ?it/s]\n",
      "Image sizes 640 train, 640 val\n",
      "Using 0 dataloader workers\n",
      "Logging results to \u001B[1mruns\\detect\\train52\u001B[0m\n",
      "Starting training for 16 epochs...\n",
      "\n",
      "      Epoch    GPU_mem   box_loss   cls_loss   dfl_loss  Instances       Size\n",
      "  0%|          | 0/14 [00:00<?, ?it/s]"
     ]
    }
   ],
   "source": [
    "model.train(data=\"mydata.yaml\", epochs=16)\n"
   ],
   "metadata": {
    "collapsed": false,
    "pycharm": {
     "is_executing": true
    }
   }
  },
  {
   "cell_type": "code",
   "execution_count": 61,
   "outputs": [],
   "source": [
    "model =YOLO('runs/detect/train49/weights/best.pt')"
   ],
   "metadata": {
    "collapsed": false
   }
  },
  {
   "cell_type": "code",
   "execution_count": 69,
   "outputs": [
    {
     "name": "stderr",
     "output_type": "stream",
     "text": [
      "Ultralytics YOLOv8.0.42  Python-3.10.7 torch-1.13.1+cpu CPU\n",
      "Model summary (fused): 168 layers, 3005843 parameters, 0 gradients, 8.1 GFLOPs\n",
      "\u001B[34m\u001B[1mval: \u001B[0mScanning C:\\Users\\Nain0414\\Downloads\\YOLO-v8-Transfer-Learning-Implementation-main\\YOLO-v8-Transfer-Learning-Implementation-main\\ultralytics\\ultralytics\\datasets\\mydata\\labels\\val.cache... 20 images, 0 backgrounds, 0 corrupt: 100%|██████████| 20/20 [00:00<?, ?it/s]\n",
      "                 Class     Images  Instances      Box(P          R      mAP50  mAP50-95): 100%|██████████| 2/2 [00:05<00:00,  2.53s/it]\n",
      "                   all         20        367      0.919      0.578      0.623      0.506\n",
      "Speed: 6.7ms preprocess, 197.6ms inference, 0.0ms loss, 11.7ms postprocess per image\n"
     ]
    }
   ],
   "source": [
    "res = model.val(save=True)"
   ],
   "metadata": {
    "collapsed": false
   }
  },
  {
   "cell_type": "code",
   "execution_count": 75,
   "outputs": [
    {
     "name": "stderr",
     "output_type": "stream",
     "text": [
      "\n",
      "image 1/1 C:\\Users\\Nain0414\\DataspellProjects\\YOLOv8-Object-Detection-Transfer-Learning\\144.jpg: 640x640 9 rects, 1130.5ms\n",
      "Speed: 0.0ms preprocess, 1130.5ms inference, 26.2ms postprocess per image at shape (1, 3, 640, 640)\n",
      "Results saved to \u001B[1mruns\\detect\\predict5\u001B[0m\n"
     ]
    }
   ],
   "source": [
    "\n",
    "res=model(\n",
    "    source='144.jpg',\n",
    "    conf=0.05,\n",
    "    save=True,\n",
    "    augment=True\n",
    ")\n"
   ],
   "metadata": {
    "collapsed": false
   }
  },
  {
   "cell_type": "code",
   "execution_count": 37,
   "outputs": [
    {
     "name": "stdout",
     "output_type": "stream",
     "text": [
      "[Ultralytics YOLO <class 'ultralytics.yolo.engine.results.Boxes'> masks\n",
      "type: <class 'torch.Tensor'>\n",
      "shape: torch.Size([0, 6])\n",
      "dtype: torch.float32\n",
      " + tensor([], size=(0, 6))]\n"
     ]
    }
   ],
   "source": [
    "print(res)"
   ],
   "metadata": {
    "collapsed": false
   }
  },
  {
   "cell_type": "code",
   "execution_count": 20,
   "outputs": [],
   "source": [
    "from cv2 import imshow"
   ],
   "metadata": {
    "collapsed": false
   }
  },
  {
   "cell_type": "code",
   "execution_count": 26,
   "outputs": [],
   "source": [
    "import cv2\n",
    "#res = model(img)\n",
    "res_plotted = res[0].plot()\n",
    "cv2.imshow(\"result\", res_plotted)"
   ],
   "metadata": {
    "collapsed": false
   }
  },
  {
   "cell_type": "code",
   "execution_count": 27,
   "outputs": [
    {
     "name": "stderr",
     "output_type": "stream",
     "text": [
      "Traceback (most recent call last):\n",
      "  File \"C:\\Users\\Nain0414\\AppData\\Local\\Programs\\Python\\Python310\\lib\\site-packages\\pkg_resources\\__init__.py\", line 581, in _build_master\n",
      "    ws.require(__requires__)\n",
      "  File \"C:\\Users\\Nain0414\\AppData\\Local\\Programs\\Python\\Python310\\lib\\site-packages\\pkg_resources\\__init__.py\", line 909, in require\n",
      "    needed = self.resolve(parse_requirements(requirements))\n",
      "  File \"C:\\Users\\Nain0414\\AppData\\Local\\Programs\\Python\\Python310\\lib\\site-packages\\pkg_resources\\__init__.py\", line 800, in resolve\n",
      "    raise VersionConflict(dist, req).with_context(dependent_req)\n",
      "pkg_resources.ContextualVersionConflict: (numpy 1.24.2 (c:\\users\\nain0414\\appdata\\local\\programs\\python\\python310\\lib\\site-packages), Requirement.parse('numpy<1.23.0,>=1.16.5'), {'scipy'})\n",
      "\n",
      "During handling of the above exception, another exception occurred:\n",
      "\n",
      "Traceback (most recent call last):\n",
      "  File \"C:\\Users\\Nain0414\\AppData\\Local\\Programs\\Python\\Python310\\Scripts\\yolo-script.py\", line 33, in <module>\n",
      "    sys.exit(load_entry_point('ultralytics', 'console_scripts', 'yolo')())\n",
      "  File \"C:\\Users\\Nain0414\\AppData\\Local\\Programs\\Python\\Python310\\Scripts\\yolo-script.py\", line 25, in importlib_load_entry_point\n",
      "    return next(matches).load()\n",
      "  File \"C:\\Users\\Nain0414\\AppData\\Local\\Programs\\Python\\Python310\\lib\\importlib\\metadata\\__init__.py\", line 171, in load\n",
      "    module = import_module(match.group('module'))\n",
      "  File \"C:\\Users\\Nain0414\\AppData\\Local\\Programs\\Python\\Python310\\lib\\importlib\\__init__.py\", line 126, in import_module\n",
      "    return _bootstrap._gcd_import(name[level:], package, level)\n",
      "  File \"<frozen importlib._bootstrap>\", line 1050, in _gcd_import\n",
      "  File \"<frozen importlib._bootstrap>\", line 1027, in _find_and_load\n",
      "  File \"<frozen importlib._bootstrap>\", line 992, in _find_and_load_unlocked\n",
      "  File \"<frozen importlib._bootstrap>\", line 241, in _call_with_frames_removed\n",
      "  File \"<frozen importlib._bootstrap>\", line 1050, in _gcd_import\n",
      "  File \"<frozen importlib._bootstrap>\", line 1027, in _find_and_load\n",
      "  File \"<frozen importlib._bootstrap>\", line 992, in _find_and_load_unlocked\n",
      "  File \"<frozen importlib._bootstrap>\", line 241, in _call_with_frames_removed\n",
      "  File \"<frozen importlib._bootstrap>\", line 1050, in _gcd_import\n",
      "  File \"<frozen importlib._bootstrap>\", line 1027, in _find_and_load\n",
      "  File \"<frozen importlib._bootstrap>\", line 1006, in _find_and_load_unlocked\n",
      "  File \"<frozen importlib._bootstrap>\", line 688, in _load_unlocked\n",
      "  File \"<frozen importlib._bootstrap_external>\", line 883, in exec_module\n",
      "  File \"<frozen importlib._bootstrap>\", line 241, in _call_with_frames_removed\n",
      "  File \"C:\\Users\\Nain0414\\Downloads\\YOLO-v8-Transfer-Learning-Implementation-main\\YOLO-v8-Transfer-Learning-Implementation-main\\ultralytics\\ultralytics\\__init__.py\", line 5, in <module>\n",
      "    from ultralytics.yolo.engine.model import YOLO\n",
      "  File \"C:\\Users\\Nain0414\\Downloads\\YOLO-v8-Transfer-Learning-Implementation-main\\YOLO-v8-Transfer-Learning-Implementation-main\\ultralytics\\ultralytics\\yolo\\__init__.py\", line 3, in <module>\n",
      "    from . import v8\n",
      "  File \"C:\\Users\\Nain0414\\Downloads\\YOLO-v8-Transfer-Learning-Implementation-main\\YOLO-v8-Transfer-Learning-Implementation-main\\ultralytics\\ultralytics\\yolo\\v8\\__init__.py\", line 3, in <module>\n",
      "    from ultralytics.yolo.v8 import classify, detect, segment\n",
      "  File \"C:\\Users\\Nain0414\\Downloads\\YOLO-v8-Transfer-Learning-Implementation-main\\YOLO-v8-Transfer-Learning-Implementation-main\\ultralytics\\ultralytics\\yolo\\v8\\classify\\__init__.py\", line 3, in <module>\n",
      "    from ultralytics.yolo.v8.classify.predict import ClassificationPredictor, predict\n",
      "  File \"C:\\Users\\Nain0414\\Downloads\\YOLO-v8-Transfer-Learning-Implementation-main\\YOLO-v8-Transfer-Learning-Implementation-main\\ultralytics\\ultralytics\\yolo\\v8\\classify\\predict.py\", line 5, in <module>\n",
      "    from ultralytics.yolo.engine.predictor import BasePredictor\n",
      "  File \"C:\\Users\\Nain0414\\Downloads\\YOLO-v8-Transfer-Learning-Implementation-main\\YOLO-v8-Transfer-Learning-Implementation-main\\ultralytics\\ultralytics\\yolo\\engine\\predictor.py\", line 37, in <module>\n",
      "    from ultralytics.nn.autobackend import AutoBackend\n",
      "  File \"C:\\Users\\Nain0414\\Downloads\\YOLO-v8-Transfer-Learning-Implementation-main\\YOLO-v8-Transfer-Learning-Implementation-main\\ultralytics\\ultralytics\\nn\\autobackend.py\", line 17, in <module>\n",
      "    from ultralytics.yolo.utils import LOGGER, ROOT, yaml_load\n",
      "  File \"C:\\Users\\Nain0414\\Downloads\\YOLO-v8-Transfer-Learning-Implementation-main\\YOLO-v8-Transfer-Learning-Implementation-main\\ultralytics\\ultralytics\\yolo\\utils\\__init__.py\", line 622, in <module>\n",
      "    SETTINGS = get_settings()\n",
      "  File \"C:\\Users\\Nain0414\\Downloads\\YOLO-v8-Transfer-Learning-Implementation-main\\YOLO-v8-Transfer-Learning-Implementation-main\\ultralytics\\ultralytics\\yolo\\utils\\__init__.py\", line 568, in get_settings\n",
      "    from ultralytics.yolo.utils.checks import check_version\n",
      "  File \"C:\\Users\\Nain0414\\Downloads\\YOLO-v8-Transfer-Learning-Implementation-main\\YOLO-v8-Transfer-Learning-Implementation-main\\ultralytics\\ultralytics\\yolo\\utils\\checks.py\", line 17, in <module>\n",
      "    import pkg_resources as pkg\n",
      "  File \"C:\\Users\\Nain0414\\AppData\\Local\\Programs\\Python\\Python310\\lib\\site-packages\\pkg_resources\\__init__.py\", line 3260, in <module>\n",
      "    def _initialize_master_working_set():\n",
      "  File \"C:\\Users\\Nain0414\\AppData\\Local\\Programs\\Python\\Python310\\lib\\site-packages\\pkg_resources\\__init__.py\", line 3234, in _call_aside\n",
      "    f(*args, **kwargs)\n",
      "  File \"C:\\Users\\Nain0414\\AppData\\Local\\Programs\\Python\\Python310\\lib\\site-packages\\pkg_resources\\__init__.py\", line 3272, in _initialize_master_working_set\n",
      "    working_set = WorkingSet._build_master()\n",
      "  File \"C:\\Users\\Nain0414\\AppData\\Local\\Programs\\Python\\Python310\\lib\\site-packages\\pkg_resources\\__init__.py\", line 583, in _build_master\n",
      "    return cls._build_from_requirements(__requires__)\n",
      "  File \"C:\\Users\\Nain0414\\AppData\\Local\\Programs\\Python\\Python310\\lib\\site-packages\\pkg_resources\\__init__.py\", line 596, in _build_from_requirements\n",
      "    dists = ws.resolve(reqs, Environment())\n",
      "  File \"C:\\Users\\Nain0414\\AppData\\Local\\Programs\\Python\\Python310\\lib\\site-packages\\pkg_resources\\__init__.py\", line 800, in resolve\n",
      "    raise VersionConflict(dist, req).with_context(dependent_req)\n",
      "pkg_resources.ContextualVersionConflict: (numpy 1.24.2 (c:\\users\\nain0414\\appdata\\local\\programs\\python\\python310\\lib\\site-packages), Requirement.parse('numpy<1.23.0,>=1.16.5'), {'scipy'})\n"
     ]
    }
   ],
   "source": [
    "!yolo predict model=yolov8n.pt source='144.jpg' save=True augment=True\n"
   ],
   "metadata": {
    "collapsed": false
   }
  },
  {
   "cell_type": "markdown",
   "source": [
    "&nbsp;&nbsp;&nbsp;&nbsp;&nbsp;&nbsp;&nbsp;&nbsp;\n",
    "<img align=\"left\" src=\"https://blog.roboflow.com/content/images/size/w1000/2023/01/image-16.png\" width=\"1200\">"
   ],
   "metadata": {
    "collapsed": false
   }
  },
  {
   "cell_type": "code",
   "execution_count": 80,
   "outputs": [
    {
     "name": "stderr",
     "output_type": "stream",
     "text": [
      "Ultralytics YOLOv8.0.42  Python-3.10.7 torch-1.13.1+cpu CPU\n",
      "\n",
      "\u001B[34m\u001B[1mPyTorch:\u001B[0m starting from runs\\detect\\train51\\weights\\best.pt with input shape (1, 3, 640, 640) BCHW and output shape(s) (1, 5, 8400) (5.9 MB)\n",
      "WARNING  YOLOv8 TensorFlow export is still under development. Please consider contributing to the effort if you have TF expertise. Thank you!\n",
      "\u001B[31m\u001B[1mrequirements:\u001B[0m YOLOv8 requirements \"onnx2tf\" \"sng4onnx\" \"onnx_graphsurgeon\" \"tflite_support\" not found, attempting AutoUpdate...\n",
      "\u001B[31m\u001B[1mrequirements:\u001B[0m  Command 'pip install \"onnx2tf\" \"sng4onnx\" \"onnx_graphsurgeon\" \"tflite_support\"  --extra-index-url https://pypi.ngc.nvidia.com' returned non-zero exit status 1.\n",
      "\n",
      "\u001B[34m\u001B[1mTensorFlow SavedModel:\u001B[0m starting export with tensorflow 2.11.0...\n",
      "\n",
      "\u001B[34m\u001B[1mONNX:\u001B[0m starting export with onnx 1.13.1...\n",
      "\u001B[34m\u001B[1mONNX:\u001B[0m simplifying with onnxsim 0.4.17...\n",
      "\u001B[34m\u001B[1mONNX:\u001B[0m export success  2.4s, saved as runs\\detect\\train51\\weights\\best.onnx (11.6 MB)\n",
      "\n",
      "\u001B[34m\u001B[1mTensorFlow SavedModel:\u001B[0m running onnx2tf -i runs\\detect\\train51\\weights\\best.onnx -o runs\\detect\\train51\\weights\\best_saved_model --non_verbose \n",
      "\u001B[34m\u001B[1mTensorFlow SavedModel:\u001B[0m export failure  35.7s: SavedModel file does not exist at: runs\\detect\\train51\\weights\\best_saved_model\\{saved_model.pbtxt|saved_model.pb}\n",
      "\n",
      "\u001B[34m\u001B[1mTensorFlow GraphDef:\u001B[0m starting export with tensorflow 2.11.0...\n",
      "\u001B[34m\u001B[1mTensorFlow GraphDef:\u001B[0m export failure  0.0s: 'NoneType' object has no attribute 'inputs'\n",
      "\u001B[31m\u001B[1mrequirements:\u001B[0m YOLOv8 requirement \"tensorflowjs\" not found, attempting AutoUpdate...\n",
      "\u001B[31m\u001B[1mrequirements:\u001B[0m  Command 'pip install \"tensorflowjs\"  ' returned non-zero exit status 1.\n",
      "\u001B[34m\u001B[1mTensorFlow.js:\u001B[0m export failure  690.3s: No module named 'tensorflowjs'\n"
     ]
    },
    {
     "data": {
      "text/plain": "[]"
     },
     "execution_count": 80,
     "metadata": {},
     "output_type": "execute_result"
    }
   ],
   "source": [
    "\n",
    "model.export(format='sdas',)\n"
   ],
   "metadata": {
    "collapsed": false
   }
  },
  {
   "cell_type": "code",
   "execution_count": null,
   "outputs": [],
   "source": [],
   "metadata": {
    "collapsed": false
   }
  }
 ],
 "metadata": {
  "kernelspec": {
   "display_name": "Python 3",
   "language": "python",
   "name": "python3"
  },
  "language_info": {
   "codemirror_mode": {
    "name": "ipython",
    "version": 2
   },
   "file_extension": ".py",
   "mimetype": "text/x-python",
   "name": "python",
   "nbconvert_exporter": "python",
   "pygments_lexer": "ipython2",
   "version": "2.7.6"
  }
 },
 "nbformat": 4,
 "nbformat_minor": 0
}
